{
 "cells": [
  {
   "cell_type": "markdown",
   "metadata": {
    "toc": true
   },
   "source": [
    "<h1>Table of Contents<span class=\"tocSkip\"></span></h1>\n",
    "<div class=\"toc\"><ul class=\"toc-item\"><li><span><a href=\"#Imports-and-loading-the-datasets\" data-toc-modified-id=\"Imports-and-loading-the-datasets-1\"><span class=\"toc-item-num\">1&nbsp;&nbsp;</span>Imports and loading the datasets</a></span></li><li><span><a href=\"#Exploring-the-words-in-the-dataset\" data-toc-modified-id=\"Exploring-the-words-in-the-dataset-2\"><span class=\"toc-item-num\">2&nbsp;&nbsp;</span>Exploring the words in the dataset</a></span></li><li><span><a href=\"#Looking-at-the-length-of-the-texts-and-headlines\" data-toc-modified-id=\"Looking-at-the-length-of-the-texts-and-headlines-3\"><span class=\"toc-item-num\">3&nbsp;&nbsp;</span>Looking at the length of the texts and headlines</a></span></li><li><span><a href=\"#Analyzing-the-first-paragraph-of-the-articles\" data-toc-modified-id=\"Analyzing-the-first-paragraph-of-the-articles-4\"><span class=\"toc-item-num\">4&nbsp;&nbsp;</span>Analyzing the first paragraph of the articles</a></span></li></ul></div>"
   ]
  },
  {
   "cell_type": "markdown",
   "metadata": {},
   "source": [
    "# Imports and loading the datasets"
   ]
  },
  {
   "cell_type": "code",
   "execution_count": 2,
   "metadata": {},
   "outputs": [],
   "source": [
    "import pandas as pd\n",
    "import numpy as np\n",
    "import seaborn as sns\n",
    "import matplotlib.pyplot as plt\n",
    "from collections import Counter\n",
    "\n",
    "import os"
   ]
  },
  {
   "cell_type": "code",
   "execution_count": 3,
   "metadata": {},
   "outputs": [],
   "source": [
    "interim_data_dir = '../data/interim'"
   ]
  },
  {
   "cell_type": "code",
   "execution_count": 4,
   "metadata": {},
   "outputs": [],
   "source": [
    "folha_articles = pd.read_csv(os.path.join(interim_data_dir, 'news-of-the-site-folhauol/articles.csv'))"
   ]
  },
  {
   "cell_type": "code",
   "execution_count": 5,
   "metadata": {},
   "outputs": [],
   "source": [
    "headlines = folha_articles['title']\n",
    "news_text = folha_articles['text']"
   ]
  },
  {
   "cell_type": "markdown",
   "metadata": {},
   "source": [
    "# Exploring the words in the dataset"
   ]
  },
  {
   "cell_type": "code",
   "execution_count": 6,
   "metadata": {},
   "outputs": [
    {
     "name": "stdout",
     "output_type": "stream",
     "text": [
      "There are 167053 observations in the dataset\n"
     ]
    }
   ],
   "source": [
    "print(\"There are {} observations in the dataset\".format(len(headlines)))"
   ]
  },
  {
   "cell_type": "code",
   "execution_count": 7,
   "metadata": {},
   "outputs": [
    {
     "name": "stdout",
     "output_type": "stream",
     "text": [
      "There are 104203 unique words in the headlines\n"
     ]
    }
   ],
   "source": [
    "headlines_word_counter = Counter()\n",
    "for headline in headlines:\n",
    "    for word in headline.split():\n",
    "        headlines_word_counter[word]+=1\n",
    "\n",
    "print(\"There are {} unique words in the headlines\".format(len(headlines_word_counter)))"
   ]
  },
  {
   "cell_type": "code",
   "execution_count": 8,
   "metadata": {},
   "outputs": [
    {
     "data": {
      "text/plain": [
       "[('de', 98200),\n",
       " ('e', 38339),\n",
       " ('em', 34456),\n",
       " ('do', 33008),\n",
       " ('da', 28318),\n",
       " ('a', 25140),\n",
       " ('para', 22678),\n",
       " ('no', 19853),\n",
       " ('que', 18890),\n",
       " ('na', 18566)]"
      ]
     },
     "execution_count": 8,
     "metadata": {},
     "output_type": "execute_result"
    }
   ],
   "source": [
    "headlines_word_counter.most_common(10)"
   ]
  },
  {
   "cell_type": "code",
   "execution_count": 9,
   "metadata": {},
   "outputs": [
    {
     "data": {
      "text/plain": [
       "[\"'lascado',\",\n",
       " \"'Decidi\",\n",
       " \"sofrem',\",\n",
       " 'Oumou',\n",
       " 'Sangaré',\n",
       " 'definitivo;',\n",
       " 'CBSS',\n",
       " 'Business',\n",
       " 'Saud,',\n",
       " '166%',\n",
       " \"manipulado',\",\n",
       " 'Pigossi',\n",
       " 'revogado,',\n",
       " 'Insolvente,',\n",
       " 'arauto',\n",
       " \"punitiva',\",\n",
       " 'falsear',\n",
       " 'emprego:',\n",
       " 'ainda)',\n",
       " 'separatismo,']"
      ]
     },
     "execution_count": 9,
     "metadata": {},
     "output_type": "execute_result"
    }
   ],
   "source": [
    "#rarest words\n",
    "sorted(headlines_word_counter, key=lambda k: headlines_word_counter[k])[:20]"
   ]
  },
  {
   "cell_type": "markdown",
   "metadata": {},
   "source": [
    "We already can see a punctuation problem here, note the \"word\" ainda), it was supposed to be the word ainda plus the punctuation ). We can, in the preprocessing part, separate punctuations with whitspaces since in portuguese we don't have compressed words such as \"it's\"."
   ]
  },
  {
   "cell_type": "code",
   "execution_count": 10,
   "metadata": {},
   "outputs": [
    {
     "name": "stdout",
     "output_type": "stream",
     "text": [
      "Number of NaN texts: 765, representing 0.46% of the entire corpus\n"
     ]
    }
   ],
   "source": [
    "print(\"Number of NaN texts: {}, representing {:.2f}% of the entire corpus\"\n",
    "      .format(folha_articles['text'].isna().sum(), 100*folha_articles['text'].isna().mean()))"
   ]
  },
  {
   "cell_type": "code",
   "execution_count": 11,
   "metadata": {},
   "outputs": [
    {
     "name": "stdout",
     "output_type": "stream",
     "text": [
      "There are 1332521 unique words in the news texts\n"
     ]
    }
   ],
   "source": [
    "text_word_counter = Counter()\n",
    "for text in news_text:\n",
    "    if pd.isna(text):\n",
    "        continue\n",
    "    for word in text.split():\n",
    "        text_word_counter[word]+=1\n",
    "        \n",
    "print(\"There are {} unique words in the news texts\".format(len(text_word_counter)))"
   ]
  },
  {
   "cell_type": "code",
   "execution_count": 12,
   "metadata": {},
   "outputs": [
    {
     "data": {
      "text/plain": [
       "[('de', 3437457),\n",
       " ('a', 2178138),\n",
       " ('o', 1892559),\n",
       " ('que', 1780232),\n",
       " ('e', 1633118),\n",
       " ('do', 1341421),\n",
       " ('da', 1168380),\n",
       " ('em', 993609),\n",
       " ('para', 826214),\n",
       " ('com', 668162)]"
      ]
     },
     "execution_count": 12,
     "metadata": {},
     "output_type": "execute_result"
    }
   ],
   "source": [
    "text_word_counter.most_common(10)"
   ]
  },
  {
   "cell_type": "code",
   "execution_count": 13,
   "metadata": {},
   "outputs": [
    {
     "data": {
      "text/plain": [
       "['(9),',\n",
       " 'inflamado',\n",
       " '\"lascado\",',\n",
       " 'desidratando-o,',\n",
       " 'inclusive,',\n",
       " 'alternativo,',\n",
       " '(PT),',\n",
       " 'Presidência.',\n",
       " 'lascado,',\n",
       " 'processo.',\n",
       " 'absolva,',\n",
       " 'desculpas\",',\n",
       " 'Brasília.',\n",
       " '[investigadores]',\n",
       " 'dizer:',\n",
       " \"'Ah,\",\n",
       " \"eleitoral'.\",\n",
       " 'Testem\",',\n",
       " 'petista.',\n",
       " '\"mentiras']"
      ]
     },
     "execution_count": 13,
     "metadata": {},
     "output_type": "execute_result"
    }
   ],
   "source": [
    "#rarest words\n",
    "sorted(text_word_counter, key=lambda k: headlines_word_counter[k])[:20]"
   ]
  },
  {
   "cell_type": "markdown",
   "metadata": {},
   "source": [
    "# Looking at the length of the texts and headlines"
   ]
  },
  {
   "cell_type": "code",
   "execution_count": 14,
   "metadata": {},
   "outputs": [],
   "source": [
    "folha_articles['headline_length'] = pd.Series([len(headline.split()) for headline in headlines])\n",
    "folha_articles['text_length'] = pd.Series([len(text.split()) if not pd.isna(text) else 0 for text in news_text])"
   ]
  },
  {
   "cell_type": "markdown",
   "metadata": {},
   "source": [
    "Does large text implies larger headlines?"
   ]
  },
  {
   "cell_type": "code",
   "execution_count": 15,
   "metadata": {},
   "outputs": [
    {
     "name": "stdout",
     "output_type": "stream",
     "text": [
      "Pearson correlation for the length of the text and the headline: 0.03\n"
     ]
    }
   ],
   "source": [
    "print(\"Pearson correlation for the length of the text and the headline: {:.2f}\"\n",
    "      .format(folha_articles.corr().loc['text_length', 'headline_length']))"
   ]
  },
  {
   "cell_type": "markdown",
   "metadata": {},
   "source": [
    "It looks like the length of the text doesn't affect at all the length of the headline"
   ]
  },
  {
   "cell_type": "code",
   "execution_count": 16,
   "metadata": {},
   "outputs": [
    {
     "data": {
      "image/png": "[encoded data removed]",
      "text/plain": [
       "<Figure size 1440x360 with 2 Axes>"
      ]
     },
     "metadata": {
      "needs_background": "light"
     },
     "output_type": "display_data"
    }
   ],
   "source": [
    "fig, axes = plt.subplots(1, 2, figsize=[20,5])\n",
    "sns.boxplot(folha_articles['text_length'], color='blue', ax=axes[0])\n",
    "sns.boxplot(folha_articles['headline_length'], color='blue', ax=axes[1])\n",
    "axes[0].set_title('Length of the news text')\n",
    "axes[1].set_title('Length of the headline')\n",
    "axes[0].set_xlabel('')\n",
    "axes[1].set_xlabel('');"
   ]
  },
  {
   "cell_type": "markdown",
   "metadata": {},
   "source": [
    "Looks like we have some outliers in the length's of the news text, let's see the article with maximum length, over 10000 words!"
   ]
  },
  {
   "cell_type": "code",
   "execution_count": 17,
   "metadata": {},
   "outputs": [],
   "source": [
    "max_length_idx = folha_articles[folha_articles['text_length']==folha_articles['text_length'].max()].index"
   ]
  },
  {
   "cell_type": "code",
   "execution_count": 18,
   "metadata": {
    "scrolled": true
   },
   "outputs": [
    {
     "data": {
      "text/plain": [
       "['A Folha oferece serviço de esclarecimento de dúvidas dos leitores sobre como preencher a declaração do IR 2016 -referente a rendimentos de 2015. O serviço será publicado até 29 de abril, último dia para o envio da declaração à Receita. As respostas, dadas pelos consultores da IOB/Sage, serão publicadas no caderno Mercado, de terça-feira a sábado, e compiladas nesta página.  As novas perguntas e respostas são adicionadas ao pé da página.  Perguntas devem ser enviadas para o e-mail mercado.folha@uol.com.br.  Outras perguntas e respostas podem ser acessadas por aqui.  *  1 - Vendi imóvel para pagar R$ 400 mil ao Banco do Brasil para baixa de hipoteca. Há isenção do Imposto de Renda sobre o ganho de capital? (L.V.G.)  Não. A isenção sobre o ganho de capital não se aplica à hipótese de venda de imóvel para quitar dívidas com bancos. Preencha o programa GCap/2015, calcule o ganho de capital (pague o IR, se houver e se ainda não o fez) e importe os dados para o Demonstrativo de Ganho de Capital de sua declaração.  2 - Fiz cirurgia e paguei o médico em dezembro de 2015, mas tive o reembolso do plano de saúde apenas em janeiro de 2016. Como procedo? (N.M.)  Informe a despesa médica no código 10 da ficha Pagamentos efetuados. O reembolso recebido neste ano será lançado apenas na declaração de 2017, na ficha Rendimentos tributáveis recebidos de PJ pelo titular.  3 - Emprestei R$ 100 mil para meu filho comprar imóvel. Quero doar para ele R$ 50 mil e abater do empréstimo. Posso fazer isso? (G.C.)  Sim. Você declarará na ficha Doações efetuadas (código 80), o nome, CPF do filho e o valor doado. Na ficha Bens e direitos (código 51), em relação ao empréstimo a receber, diminuirá o valor doado. Ele informará a doação na ficha Rendimentos isentos e não tributáveis, com nome, CPF do doador e o valor recebido. Na ficha Dívidas e ônus reais, ele diminuirá o valor a pagar para R$ 50 mil, na coluna de 31/12 do ano da doação.  4 - Ganhei ação judicial relativa a dividendos de ações. Como declaro? (R.C.).  Informe o valor recebido na linha 5 da ficha Rendimentos isentos e não tributáveis.  5 - Em 2015, tive dívida bancária liquidada pelo avalista, no valor de R$ 150 mil. Como dou baixa na dívida? (G.C.)  Na ficha de Dívidas e ônus reais (código 11), informe que a dívida foi quitada pelo avalista. Deixe em branco o campo de 2015. Abra um novo item (código 14) como dívida sua com o avalista e informe o valor no campo de 2015.  6 - Minha mãe, minha irmã e eu temos casa herdada de meu pai. Minha parte é de 25%, conforme partilha, no valor de R$ 43 mil. O imóvel vale R$ 1,3 milhão. Podemos atualizar o valor? (A.C.)  Não, pois a legislação não prevê atualização do custo de imóvel. O valor só poderá ser alterado se houver despesas com construção, ampliação ou reforma, com documentos das mesmas. Mantenham os R$ 43 mil.  7 - Tratamentos de fertilização in vitro podem ser lançados como despesa médica? (A.A.)  Sim. Os pagamentos feitos a médicos e a hospitais, assim como as despesas com exames laboratoriais, realizados para procedimento de reprodução assistida por fertilização in vitro, devidamente comprovados, são dedutíveis somente na declaração da esposa/companheira, que é a paciente do tratamento médico. Se a esposa/companheira constar como dependente, esses pagamentos também poderão ser deduzidos na declaração do cônjuge.  8 - Minha casa foi desapropriada, mas não aceitei o valor, questionando-o judicialmente. Em 2015, recebi a indenização com juros e correção monetária. Paguei advogado. Como declaro? (F.L.G.)  Informe o valor da indenização (principal e correção) na ficha Rendimentos isentos e não tributáveis (linha 24). O valor dos juros é informado na ficha Rendimentos recebidos de PJ pelo titular. Informe na ficha Pagamentos efetuados (código 62) o nome, o CPF e o valor pago ao advogado.  9 - Em 2015, fiz duas transferências bancárias para meu filho financiar imóvel. A de R$ 40 mil será doação; a de R$ 10 mil será empréstimo. Como declaro? (L.A.A.)  Na ficha Doações efetuadas (código 80), informe nome, CPF do filho e os R$ 40 mil. Na ficha Bens e direitos (código 51), informe R$ 10 mil no campo de 2015.  10 - Sou aposentado e continuo pagando previdência privada. Posso deduzir esse valor? (A.F.)  Sim, desde que seja PGBL. Informe na ficha Pagamentos efetuados (código 36), observado o limite de 12% da renda tributável. Se for VGBL, não é dedutível (informe na ficha Bens e direitos, código 97).  11 - Como declaro empréstimo para filho, sem cobrança de juros, com devolução quando ele puder? (H.C.L.).  No campo Discriminação da ficha Bens e direitos (código 51), informe nome e CPF do filho e as condições do empréstimo. Deixe em branco o campo de 2014. No de 2015, informe o valor do empréstimo. Não há limite para empréstimo.  12 - Minha mulher morreu em 2015. Fazíamos declarações completas, com alguns imóveis em nome dela e outros em meu nome. O inventário ainda não terminou. Como declaro os bens? (L.C.).  Faça a declaração inicial de espólio em nome dela. Relacione todos os bens e direitos comuns do casal e sujeitos ao inventário. Você pode fazer sua declaração em separado ou ser dependente do espólio.  13 - Minha mulher tem mal de Parkinson. Posso abater os gastos com medicamentos para ela? (R.P.).  Esses gastos não podem ser deduzidos como despesas médicas. Mas, se integrarem uma conta hospitalar, com nota fiscal, sim.  14 - Como declaro conta corrente no exterior? (D.U.).  Informe na ficha Bens e direitos (código 62). No campo Discriminação, informe o valor em moeda estrangeira, o banco e o número da conta. No campo de 2015, informe o saldo nessa data, convertido em reais pela cotação (da moeda estrangeira) de compra de 31/12 fixada pelo BC. O acréscimo patrimonial decorrente da variação cambial é isento e deve ser informado na ficha Rendimentos isentos e não tributáveis (linha 24).  15 - Na separação judicial foi acordado que o pai da criança pagará pensão alimentícia com credito bancário na conta da mãe. O valor pago é para alimentação, educação e outras despesas da criança. Como ela já tem CPF, pode entregar IR? (J.S.M.).  Se o valor da pensão não superou R$ 28.123,91, não é preciso fazer a declaração da criança. Se o valor for superior, você pode fazer a declaração da criança em separado, pois será vantajoso.  16 - Quitei, em 2015, o saldo devedor de imóvel financiado, com poupanças de meus filhos, menores e meus dependentes. As contas não foram declaradas porque os saldos eram menores que o valor exigido. Como procedo? (J.M.).  Somente estava (e está) dispensada a declaração de saldos de aplicações financeiras até R$ 140. Se os valores eram maiores (o que é provável), retifique as declarações dos últimos cinco anos e informe os saldos na ficha Bens e direitos, como bens dos dependentes, em cada um dos anos. Nesta declaração, deixe em branco o campo de 2015. Na mesma ficha, no item imóvel, informe a quitação no campo Discriminação. Some o valor da quitação ao do campo de 2014 e informe esse total no campo de 2015.  17 - Como declaro aluguéis e os recebimentos mensais de pacientes? (R.J.G.).  Os alugueis recebidos de pessoa física são informados na coluna própria da ficha Rendimentos tributáveis recebidos de PF/exterior. Se recebidos de pessoa jurídica, informe na ficha Rendimentos tributáveis recebidos de PJ pelo titular. Os honorários de pacientes são informados mês a mês na coluna Trabalho não assalariado da ficha Rendimentos tributáveis recebidos de PF/exterior, caso não tenha usado o programa carnê-leão. Se usou o programa em 2015, com o CPF de cada paciente, importe os dados para a declaração.  18 - Como declaro doação da mãe para quitar imóvel? (G.V.).  Informe na linha 10 da ficha Rendimentos isentos e não tributáveis o nome, o CPF dela e o valor recebido. Na ficha Bens e direitos, no item do imóvel, indique a quitação no campo Discriminação. No campo de 2015, informe o valor de 2014 mais a quitação.  19 - Pago pensão alimentícia e assistência médica para dois filhos em conta-corrente da mãe. Sempre fico na malha fina. Como procedo? (O.Q.).  Na ficha Pagamentos efetuados (código 26), indique os dados e o valor pago ao plano de saúde. No código 30, indique que se trata de alimentandos e os valores respectivos para cada filho. Mantenha os comprovantes por cinco anos. É vantagem os filhos terem CPF e entregar declarações individuais (desde que a soma paga a cada um supere R$ 28.123,91).  20 - Como declaro valores de imóvel e de veículo? (D.M.)  Informe na ficha Bens e direitos, em seus respectivos códigos, os valores de compra do imóvel e do veículo.  21 - Meu marido e minha filha estão como meus dependentes. A escola dela é paga por ele (recibos no nome e CPF dele). Posso incluir a despesa na minha declaração? (A.G.T.)  Sim, pois ambos são seus dependentes. Informe na ficha Pagamentos efetuados (código 01).  22 - A empresa em que trabalhava encerrou as atividades. Não recebi o informe de rendimentos. Como faço? (G.N.)  Use os contracheques para comprovar seus rendimentos, inclusive o 13º salário.  23 - Como declaro imóvel em construção? (A.W.O.)  Informe no campo Discriminação da ficha Bens e direitos (código 16). O valor gasto em 2015 vai no campo desse ano. Após a conclusão da obra, informe na mesma ficha, em item próprio para imóvel, o valor gasto até 31/12 de cada ano e zere o valor do código 16 do respectivo ano.  24 - Em maio de 2015 vendi apartamento por R$ 169 mil, adquirido em 2011 por R$ 115 mil. Paguei R$ 9.000 à imobiliária. Como declaro? (E.L.F.).  Baixe o programa GCap 2015 e informe os valores de compra, de venda e da comissão. Importe os dados para o Demonstrativo de Ganho de Capital da declaração. Recolha o IR devido (se houver), com juros e multa, antes de entregar a declaração (caso não tenha feito). Na ficha Pagamentos efetuados (código 72), informe nome, CNPJ e os R$ 9.000 pagos à imobiliária.  25 - Meu filho tem 25 anos e está fazendo pós-graduação e morando nos Estados Unidos, com visto de estudante. Fiz remessas de dólares para conta que ele abriu lá. Precisamos declarar? (V.F.).  Informe na sua declaração, na ficha Doações efetuadas (código 80), o nome, CPF do seu filho e o valor transferido em 2015. Ele informa o valor recebido na linha 10 da ficha Rendimentos isentos e não tributáveis.  26 - Minha mãe, que era pensionista do INSS e minha dependente, morreu em janeiro de 2015. O inventário terminou em julho. Ela ainda pode constar como minha dependente? Tive também gastos com despesas médicas. Posso abater? (M.V.).  Ela não pode ser sua dependente porque você deve fazer a Declaração Final de Espólio dela. As despesas médicas, se pagas por ela, poderão ser informadas na ficha Pagamentos efetuados da Declaração Final de Espólio. Se pagas por você, para ela, não podem constar no seu IR, pois ela não é mais sua dependente.  27 - Em maio de 2015 comprei apartamento com minha noiva. Cancelamos a compra em fevereiro de 2016. Como declaramos? (C.A.).  Declarem a proporção de cada um na ficha Bens e direitos (código 11). No campo de 2015, informem o valor pago até o final do ano (deixem em branco o campo de 2014). A baixa do imóvel só ocorrerá na declaração de 2017.  28 - Meu pai transferiu valor para minha poupança. Com o que já tinha, paguei imóvel. Como declaro? O ITBI entra no preço do imóvel? (F.R.).  Informe na linha 10 da ficha Rendimentos isentos e não tributáveis, o nome e o CPF do seu pai e o valor recebido. Na ficha Bens e direitos (código 11 ou 12), inclua o imóvel no campo Discriminação. No de 2015, informe a soma paga pelo imóvel mais o ITBI, pois este integra o custo de aquisição.  29 - Meu filho é meu dependente e cursa ensino superior. Fez 25 anos em 30/10/2015. Ainda posso considerá-lo como dependente? (S.A.S.).  Sim. Informe seu filho na ficha Dependentes. O gasto com a faculdade (se houver) entra na ficha Pagamentos efetuados (código 01). Em 2017 ele não poderá mais ser seu dependente.  30 - Eu e minha mulher fazemos declarações individuais. Ela é minha dependente no plano de saúde (eu pago o plano). Podemos declarar essa despesa? (R.C.B.).  Sim. Cada um indica o respectivo valor pago ao plano de saúde na ficha Pagamentos efetuados (código 26).  31 - Após inventário da minha mãe, recebi parte de uma casa (20% a cada filho) e também valor de poupança e de conta-corrente que ela deixou. Como declaro? (E.V.F.).  Informe o valor da sua parte do imóvel, da aplicação e da conta na linha 10 da ficha Rendimentos isentos e não tributáveis, com nome e CPF dela. Na ficha Bens e direitos, informe a parte do imóvel (código 12) e os valores recebidos nos códigos respectivos (se o dinheiro estiver aplicado).  32 - Em 2015, abri uma MEI e comprei carro no CNPJ dela. Posso pôr o veículo no IR da pessoa física? (R.B.)  Não, pois está no nome da pessoa jurídica.  33 - Tenho casa de R$ 250 mil e carro de R$ 28 mil. Não declaro há sete anos. Preciso declarar? (W.L.)  Apenas por esses bens, não. Mas verifique se se enquadra em outras hipóteses. Se quiser declarar, informe os bens na ficha Bens e direitos (códigos 12 e 21) e informe os respectivos valores nos campos de 2014 e de 2015.  34 - Sou servidora pública federal. Na linha 7 do comprovante de rendimentos consta o item Ressarcimento à saúde suplementar e o respectivo valor. Onde declaro? (C.M.).  Informe na ficha Pagamentos efetuados (código 26).  35 - Tenho imóvel alugado no Rio e moro em imóvel alugado em São Paulo. Posso deduzir do que recebo a taxa administrativa e o valor do aluguel pago em São Paulo? (R.S.).  Na ficha Rendimentos recebidos de PF/Exterior, informe mês a mês, no campo Aluguéis, o valor menos a taxa administrativa paga. O aluguel pago em São Paulo não pode ser abatido.  36 - Tenho filho estudando em outro Estado e pago suas despesas com alimentação e moradia. É possível deduzir essas despesas? (S.C.S.).  Não, pois a legislação não prevê esse abatimento.  37 - Vendi sala comercial por R$ 385 mil em 2015 e paguei comissão. Fiz aplicação em LCA. Como declaro? (M.M.K.).  Preencha o programa GCap/2015 e informe os valores de venda e da comissão paga ao corretor. Se houver imposto a pagar, o programa apontará (se houver, recolha o valor com juros e multa antes de entregar a declaração). Importe os dados do programa para a declaração. Na ficha Pagamentos efetuados (código 72), informe nome e CPF do corretor e o valor pago. A LCA vai na ficha Bens e direitos (código 45). Deixe em branco o campo de 2014 e informe o valor no de 2015.  38 - Em dezembro, recebi diferenças de aposentadoria, com 15% de IR. Paguei advogado. Como declaro? (E.M.V.).  Na ficha Rendimentos recebidos acumuladamente, informe a opção pela forma de tributação, o CNPJ da fonte pagadora, o valor recebido menos o pago ao advogado, o IR na fonte, o mês do recebimento e o número de meses da ação. Na ficha Pagamentos efetuados (código 62), informe nome e CPF do advogado e o valor pago a ele.  39 - Paguei R$ 45 mil para médico e o plano reembolsou R$ 16 mil. Como declaro? (G.M.).  Na ficha Pagamentos efetuados (código 10), informe nome e CPF do médico e os R$ 45 mil. No campo Parcela não dedutível/valor reembolsado, indique os R$ 16 mil.  40 - Somos casados em comunhão de bens. Declaramos em separado, com os bens comuns declarados pelo marido. Na venda de moeda estrangeira, pode ser considerado o limite de isenção de US$ 5.000 para cada um? (E.T.J.).  Não, nas vendas de bens comuns, o ganho de capital é apurado em relação ao bem como um todo.  41 - Comprei imóvel em 2015, dei uma parte e financiei a diferença. Meses depois, vendi um imóvel. Se usar o valor da venda para quitar o financiamento, deixo de pagar IR sobre o ganho? E se comprar outro imóvel? (C.C.A.F.).  Se você usar o valor da venda para pagar o financiamento, não terá a isenção. Se usar o valor da venda para comprar outro imóvel residencial, no prazo de 180 dias da venda do imóvel, sim.  42 - Comprei com filho um apartamento financiado em nossos nomes. Desde então, declarei dívida e propriedade (metade para cada um). Como faço para doar a ele a posse total do imóvel, uma vez que o financiamento continua em nossos nomes? (A.J.G.).  Após o término do financiamento, você poderá doar a sua parte a ele. Até lá, continuem a declarar 50% para cada um.  43 - Fiz cirurgias de catarata com implante de lentes multifocais. O médico não forneceu recibo dos pagamentos, feitos por cheques nominais. Posso abater os pagamentos? (P.P.J.).  A comprovação poderá ser feita com a indicação de cheque nominal ao prestador do serviço. O valor da lente só é dedutível se constar da nota emitida pelo profissional.  44 - Recebi valor referente a uma ação trabalhista. Como declaro? (J.L.F.).  Na ficha Rendimentos recebidos acumuladamente, informe a opção pela forma de tributação, o CNPJ da fonte pagadora, o valor recebido menos o pago ao advogado (se for o caso), a contribuição previdenciária, o IR na fonte, o mês do recebimento e o número de meses a que se refere a ação. Na ficha Pagamentos efetuados, informe o que pagou ao advogado (código 61).  45 - Sou casado em comunhão parcial. Minha mulher recebeu herança em dinheiro. Transferi o dinheiro para a minha conta e apliquei. Como fazemos? (M.P.M.).  A herança recebida por ela é um bem privativo e não se confunde com os bens do casal. Ainda que esteja na conta do marido, ela deve informar na declaração dela a aplicação na ficha Bens e direitos (código 45) e indicar na ficha Rendimentos isentos e não tributáveis (linha 10) o valor da herança recebida.  46 - Imóvel para aluguel ficou sem ocupação por alguns meses. As despesas com condomínio nesse período podem ser abatidas do total recebido após a locação? (E.F.).  Não. Somente é dedutível a despesa de condomínio no mês em que também houver valor recebido.  47 - Paguei operação oftalmológica para meu irmão. O recibo saiu em meu nome, indicando que o serviço foi para ele, inclusive com o CPF dele. Posso declarar como despesa médica minha? (J.R.T.).  Não. As despesas médicas dedutíveis são somente as do próprio declarante e de seus dependentes.  48 - Sou locatário de imóvel e pago o condomínio, mas o boleto está em nome do locador. Informo o pagamento? (E.M.).  Não. Informe somente o pagamento do aluguel na ficha Pagamentos efetuados (código 70).  49 - Minha mulher declara pelo modelo completo, é aposentada do INSS e recebe também complementação de previdência privada. Declaro pelo modelo simplificado apenas minha aposentadoria do INSS. Temos imóvel de R$ 350 mil (valor de mercado), mas não o declaramos. Como regularizar a situação? (J.C.A.).  Os bens comuns do casal são declarados apenas por um dos cônjuges. Retifique as últimas cinco declarações, incluindo na ficha Bens e direitos o imóvel e, no campo Discriminação, informe os dados e a data de aquisição. Nos campos dos anos respectivos, informe o custo de aquisição (não o de mercado). O outro cônjuge informa na ficha Bens e direitos (código 99) que os bens comuns são declarados pelo outro. Cada um indica o CPF do outro.  50 - Vendi imóvel por R$ 180 mil declarado por R$ 12,5 mil. Como declaro (C.T.).  Você não deu detalhes básicos: se era o único imóvel, data de compra, se usou o dinheiro para comprar outro etc. Baixe e preencha o programa GCap/2015, respondendo às perguntas e informando os valores pedidos. O programa calculará o IR devido, se houver. Caso haja imposto a pagar, recolha com multa e juros. Importe as informações para a declaração. Na ficha Bens e direitos, informe a venda no campo Discriminação e deixe em branco o de 2015.  51 - Financiei compra de apartamento na planta. Paguei a entrada para a construtora e pago mensalidades para ela e juros da obra para a Caixa até o imóvel ficar pronto. Como declaro? (R.P.C.).  Na ficha Bens e direitos (código 11), informe os dados do imóvel e o valor da compra no campo Discriminação. No campo de 2015, informe a entrada mais as parcelas e juros pagos até essa data.  52 - Como declaro CDB, LCI e Tesouro Direto? (A.G.D.).  Informe as aplicações na ficha Bens e direitos (código 45). Indique o saldo no campo de 2015, conforme o banco forneceu. Na linha 06 da ficha Rendimentos sujeitos à tributação exclusiva/definitiva, informe o rendimento.  53 - Como declaro outorga de serviço de táxi preto da Prefeitura de São Paulo? (V.V.).  Informe na ficha Bens e direitos (código 91). No campo de 2015, informe o valor pago.  54 - Minha sogra, aposentada, fez 65 anos em dezembro. A que benefício ela tem direito? Como declaro? (C.P.).  A parcela isenta é de até R$ 3.807,96 (até R$ 1.903,98 de dezembro e do 13º). Informe na linha 06 da ficha Rendimentos isentos e não tributáveis. O restante vai na ficha Rendimentos tributáveis recebidos de PJ pelo titular.  55 - Trabalho na Petrobras e pago o plano de saúde de meus filhos. Os que têm renda própria podem informar essa despesa? (W.S.S).  Sim. Na declaração deles, na ficha Pagamentos efetuados (código 26), cada um informa o respectivo valor.  56 - Recebi correção de poupança do plano Verão em ação contra a Caixa. Como declaro? Engenheiros têm de informar o CPF dos clientes? (M.M.N.).  Informe a correção na linha 24 da ficha Rendimentos isentos e não tributáveis (especifique \\'Correção Plano Verão\\'). O CNPJ é o da Caixa (00.360.305/0001-04). Os engenheiros não precisam informar o CPF dos clientes.  57 - Investi em CDB, LC e LCI e resgatei LC. No comprovante do banco, consta o valor líquido do rendimento e retenção de 20%. Como declaro? Posso declarar o total dos títulos ou devo desmembrá-los? (H.C.L).  Informe o rendimento líquido na linha 06 da ficha Rendimentos sujeitos à tributação exclusiva/definitiva. Informe cada título individualmente, segundo consta do documento fornecido pela instituição financeira.  58 - Como declaro rendimento de imóvel alugado? (A.C.F.).  Informe os valores mensais recebidos de pessoa física na ficha Rendimentos tributáveis recebidos de PF/Exterior, na coluna Outras informações / Alugueis. Dependendo do valor, é preciso incluir, na coluna Carnê-leão, o valor pago via Darf.  59 - Recebi R$ 58.017 de adiantamento de precatório (mais de 60 anos). Eram R$ 72.521 (a diferença foi paga ao advogado). Como declaro? (C.O.C.).  Na ficha Rendimentos tributáveis de PJ recebidos acumuladamente, informe a opção pela forma de tributação, o CNPJ da fonte pagadora, o valor de R$ 58.017, o IR retido (se houve), o mês do recebimento e o número de meses da ação. Na ficha Pagamentos efetuados (código 60), informe os dados do advogado e o valor pago.  60 - Eu e minha mulher declaramos em separado. Ela fez cirurgias (temos recibos e notas fiscais). Posso lançar parte das despesas para ela e parte para mim? Posso declarar em conjunto neste ano e em 2017 fazer novamente duas declarações? (A.O.S.J.).  As despesas médicas dela podem ser informadas na declaração em conjunto, sendo ela sua dependente, ou só na declaração dela. Não pode haver rateio de gastos médicos. Sim, você pode declarar em conjunto neste ano e em separado em 2017.  61 - Tenho filho que mora nos EUA. Fiz transferências para ajudá-lo (ele não pretende voltar ao Brasil). Fiz saque em VGBL. Como declaro? (P.E.).  O valor enviado ao filho não precisa ser declarado. Se sua opção ao aderir ao VGBL foi pela tabela progressiva, informe o saque na ficha Rendimentos recebidos de PJ pelo titular e indique o IR retido. Se foi pela tabela regressiva, informe na linha 12 da ficha Rendimentos sujeitos à tributação exclusiva/definitiva.  62 - Posso deduzir gasto com curso de pós-graduação a distância? (J.C.).  Sim, na ficha Pagamentos efetuados (código 01).  63 - Como declaro rendimentos de uma SCP em que sou sócio oculto? (J.A.F.).  Informe os lucros na linha 05 da ficha Rendimentos isentos e não tributáveis e indique o nome e o CNPJ do sócio ostensivo.  64 - Quero incluir meu filho como dependente. Além da renda dele, que vou informar, como declaro os bens que ele já possuía, uma vez que em minha declaração de 2015 não indiquei esses valores? (D.D.).  Informe na ficha Bens e direitos todos os bens do seu filho (conforme os códigos). No campo Discriminação, indique cada bem que pertence a ele. Preencha os valores nos campos de 2014 e de 2015. Observe que, dependendo da renda dele, pode ser que não seja vantagem ele ser dependente. Faça a declaração dele e veja o que é mais vantajoso.  65 - Tenho filha de 20 anos, estudante e minha dependente. Ela teve um filho em 2015. Ele ainda pode ser dependente? Posso incluir meu neto como dependente? (L.C.L.).  Ela ainda pode ser sua dependente. O neto só pode ser seu dependente se você tiver a guarda judicial dele (o que não é o caso). Assim, você também não pode incluir os gastos com ele.  66 - Tenho sala alugada para empresa (R$ 500 mensais). Como declaro? (P.P.).  Informe na ficha Rendimentos tributáveis recebidos de PJ pelo titular, com nome e CNPJ da empresa.  67 - Fui empregado até maio de 2015. Em junho, passei a recolher o INSS como autônomo e após agosto, como facultativo. Como declaro esses valores pagos? (L.R.F.)  Na ficha Rendimentos tributáveis recebidos de PJ pelo titular, no campo Contribuição previdenciária oficial, informe o que foi pago como empregado. Na ficha Rendimentos tributáveis recebidos de PF/exterior, no campo Outras informações, informe na coluna Previdência oficial o valor pago como autônomo e facultativo a partir de junho.  68 - Minha irmã depositou valores em minha conta-corrente. Como declaro? (R.S.F.L.).  Informe o valor recebido durante o ano na ficha Rendimentos isentos e não tributáveis (linha 10).  69 - Doei para minha filha imóvel de R$ 80 mil, valor que estava na minha declaração. O programa pede para confirmar doação acima de R$ 50 mil. Qual o motivo? (J.Z.F.).  Para certificar que o valor declarado está correto.  70 - Faço vários bicos e recebo em conta-corrente. Retiro e gasto o dinheiro. A Receita me cobrará para saber de onde vieram os depósitos? (H.R.C.).  Informe o que você ganhou na ficha Rendimentos tributáveis recebidos de PF/exterior, na aba Trabalho não assalariado. Assim, não haverá problemas com a Receita.  71 - Faço curso de italiano. Posso abater a despesa? (C.F.P.).  Não, pois cursos de idiomas não são dedutíveis.  72 - Há dois anos minha mãe é minha dependente no IR, pois não tinha renda. Em 2015, ela começou a receber aposentadoria. Ela ainda pode ser minha dependente? (J.A.).  Sim, desde que a renda dela, tributável ou não, tenha sido de até R$ 22.499,13. Se foi superior a esse valor, ela não pode ser sua dependente.  73 - Recebi precatório com descontos de IR e de plano de seguridade social. Como declaro? (G.B.N.).  Se o precatório for rendimento acumulado, informe na ficha Rendimentos recebidos acumuladamente. Indique a opção pela forma de tributação, o CNPJ da fonte pagadora, o valor recebido menos o pago ao advogado, a contribuição (no seu caso, é o PSS), o IR retido, o mês do recebimento e o número de meses da ação. Na ficha Pagamentos efetuados (código 60 ou 61), informe o valor pago ao advogado. Se for rendimento que não é acumulado, informe na ficha Rendimentos tributáveis recebidos de PJ pelo titular.  74 - Paguei plano de saúde, tenho os comprovantes mas não o informe da empresa. Posso lançar mesmo assim? (D.S.).  Sim. Some os valores mensais e informe o total do ano na ficha Pagamentos efetuados (código 26).  75 - Emprestei R$ 110 mil para um parente em dezembro de 2015. O valor foi devolvido em janeiro de 2016, sem juros. Como declaramos? (M.N.).  Você informa o valor a receber na ficha Bens e direitos (código 51). Deixe em brando o campo de 2014 e informe R$ 110 mil no campo de 2015. Quem recebeu declara na ficha Dívidas e ônus reais (código 14), deixando em branco o campo de 2014 e informando R$ 110 mil no de 2015.  76 - Prêmio da Mega-Sena foi dividido em quatro familiares. Como declaram? (N.M.).  Cada um informa o valor de sua parte na ficha Rendimentos sujeitos à tributação exclusiva/definitiva (linha 24). Quem recebeu o prêmio total e repassou aos demais informa (código 99) essa situação, os nomes dos participantes e o valor de cada um no campo Discriminação da ficha Bens e direitos (o campo de 2015 fica em branco). Os demais também usam essa ficha e código para informar a parte recebida, deixando em branco o campo de 2015. Todos devem manter provas que confirmem a aposta.  77 - Paguei indenização, via judicial, de R$ 40 mil. Como declaro? (E.L.S.).  Na ficha Pagamentos efetuados (código 99), com nome e CPF do beneficiário.  78 - Minha mulher trabalha, mas recebeu valor muito inferior a R$ 28 mil. Posso incluí-la como dependente? (M.G.).  Sim, mas você terá de incluir esse rendimento na sua declaração. Observe se é mais vantajoso ela não ser sua dependente (nesse caso, ela pode não declarar ou então fazer declaração separada).  79 - Recebi aluguel em dezembro/15 e paguei carnê-leão em janeiro/16. Posso lançar os valores nesta declaração? (P.M.).  Sim. Informe no programa carnê-leão o valor recebido do aluguel e o IR pago, mesmo que neste ano.  80 - Minha mãe morreu em 2015. A empresa em que ela trabalhava me pagou seguro de R$ 23 mil e R$ 2.500 de reembolso do funeral. Como declaro? (M.F.F.).  Informe o valor do seguro de vida de sua mãe na linha 02 da ficha Rendimentos isentos e não tributáveis. O valor do auxílio funeral deve ser informado na ficha Rendimentos tributáveis recebidos de PJ pelo titular.  81 - Pago previdência privada e declaro os pagamentos. Preciso informar o saldo na ficha Bens e direitos? (A.A.).  Não, informe apenas os pagamentos.  82 - Como declaro os lucros recebidos da minha empresa, que já paga IR como pessoa jurídica? (P.M.).  Informe os lucros recebidos na linha 05 da ficha Rendimentos isentos e não tributáveis.  83 - Sou sócio de cooperativa de crédito. No informe de rendimentos, consta remuneração de capital social (juros do meu capital social), sem IR retido. Como declaro? (C.H.S.).  Esse rendimento é sujeito ao ajuste anual. Informe na ficha Rendimentos tributáveis recebidos de PJ pelo titular.  84 - Cirurgia realizada em novembro/15 teve nota nota fiscal emitida nessa data. Recebi reembolso da operadora em 21 de janeiro de 2016 e só então repassei o valor ao médico (PJ). Como declaro? (E.A.).  Como o reembolso e o pagamento ocorreram em 2016, essas informações constarão apenas do IR de 2017.  85 - Minha filha e o ex-marido venderam seu único imóvel. Coube a ela R$ 120 mil. Ela doou R$ 90 mil para mim. Com o que já tinha, comprei apartamento. Como declaramos? (L.F.G.O.).  Você informa a doação na linha 10 da ficha Rendimentos isentos e não tributáveis. O apartamento é informado no campo Discriminação da ficha Bens e direitos (código 11). No campo de 2015, informe o valor pago. Sua filha informa o valor da meação na linha 17 da ficha Rendimentos isentos e não tributáveis. Na ficha Doações efetuadas (código 80), ela indica nome e CPF do pai e os R$ 90 mil.  86 - Recebi informe do banco de aplicação em VGBL só com o saldo, sem rendimento no ano. Como declaro? (E.O.S.).  Informe o VGBL no campo Discriminação da ficha Bens e direitos (código 97). No campo de 2015, indique o saldo aplicado. O rendimento só será informado quando houver resgate.  87 - Tenho dólares e euros na Itália, devidamente declarados. Resgatei uma quantia, via transação bancária. Como declaro? (U.R.).  O resgate de depósito no exterior não remunerado não está sujeito ao ganho de capital. Informe o acréscimo patrimonial decorrente da variação cambial na linha 24 da ficha Rendimentos isentos e não tributáveis.  88 - Minha filha tem 21 anos, é minha dependente e resgatou PGBL em 2015 (IR regressivo). O valor líquido foi de R$ 49 mil. No informe do banco só consta o valor líquido. Posso colocar esse resgate na minha declaração como renda de dependente ou ela tem de declarar? (R.R.).  Você pode incluí-la como sua dependente. Informe os R$ 49 mil na linha 12 da ficha Rendimentos sujeitos à tributação exclusiva/definitiva e indique, no quadro auxiliar, que o rendimento é da dependente.  89 - Recebo aluguel de pessoa física, mas pago o IPTU. Como declaro? (H.S.P.).  Informe o valor do aluguel, menos o valor pago de IPTU, na ficha Rendimentos tributáveis recebidos de PF/exterior, na aba Outras informações, coluna Aluguéis.  90 - Como informo rendimento tributável com IR sob exigibilidade suspensa? (C.A.S.).  Informe na ficha Rendimentos tributáveis de PJ (Imposto com exigibilidade suspensa) o nome da fonte pagadora, o CNPJ, o valor do rendimento tributável e os depósitos judiciais do imposto (este último campo refere-se ao valor do IR retido).  91 - Obtive empréstimo de R$ 100 mil com um familiar. O dinheiro está aplicado em LCA. Como declaro? (J.E.).  Na ficha Dívida e ônus reais (código 14), informe os R$ 100 mil no campo de 2015. Na ficha Bens e direitos (código 45), discrimine a aplicação financeira e preencha o campo 2015 com o saldo naquela data.  92 - Qual o código para informar aplicações no Tesouro Direto? (R.F.A.C.).  Informe pelo código 45 na ficha Bens e Direitos.  93 - Pago plano de saúde de dependente (os valores individuais estão no informe de rendimentos). Por ter ganhos próprios, ele não constará como dependente. Ele pode declarar essa despesa? (R.B.).  Se o dependente no plano de saúde for integrante da unidade familiar, ele pode deduzir as despesas médicas na declaração dele, mesmo que pagas por você (ficha Pagamentos efetuados, código 26). Se ele não for integrante da unidade familiar, terá de comprovar que te reembolsou o valor da despesa médica para poder informá-la.  94 - Vendi apartamento que foi comprado em 1982. Além dele, tenho outro imóvel. Como declaro? (J.H.A.F.).  Preencha o programa GCap/2015 e informe a venda, o valor, a data da operação e preencha as demais informações. O programa calcula o IR sobre o ganho de capital. Importe os dados para a declaração. Pague o IR devido, com juros e multa, antes de entregar a declaração.  95 - Recebi doação de apartamento e vaga de garagem? São declarados juntos ou separados? (C.F.S.).  Ambos são informados na ficha Bens e Direitos: o apartamento pelo código 11 e a vaga de garagem pelo 19. No campo Discriminação, informe os dados de cada bem e que se trata de doação. Preencha os valores de cada um nos campos de 2015. Na linha 10 da ficha Rendimentos isentos e não tributáveis, informe a soma dos valores dos dois bens.  96 - Moro no país e tenho dependente que mora no exterior. Posso usar a dedução correspondente a ele? (C.D.M.).  A legislação brasileira não faz distinção quanto ao local onde mora o dependente. Assim, desde que provadas as condições para a pessoa figurar como sua dependente, você pode usar essa dedução.  97 - Pessoa morreu em 2015 e o inventário não foi homologado. Como declaro? (P.M.).  Faça a declaração inicial de espólio com o mesmo programa do IR. Na ficha Identificação do contribuinte, em Ocupação principal, coloque espólio (código 81) em \\'natureza da ocupação\\'. Preencha as demais fichas da declaração. Informe na ficha \\'Espólio - Identificação do inventariante\\', nome, CPF e endereço do inventariante.  98 - Recebi ação judicial com depósito em março e dezembro de 2015, sem desconto de IR na fonte e com pagamento de contribuição previdenciária. Como declaro? (J.B.).  Na ficha Rendimentos recebidos acumuladamente, informe a opção pela forma de tributação, o nome e o CNPJ da fonte pagadora, o valor do rendimento principal menos o valor pago ao advogado, o mês do recebimento e o número de meses da ação. Na ficha Pagamentos efetuados, informe os honorários pagos ao advogado (código 60), com nome e CPF dele.  99 - Tenho casa alugada na praia para temporada e recebo via imobiliária. Como informo essa renda? (L.L.T.).  Informe na ficha Rendimentos tributáveis recebidos de PF/exterior, no quadro Outras Informações, campo Aluguéis, o valor recebido menos o pago a imobiliária. Nesse caso, informe o valor pago (código 71) na ficha Pagamentos efetuados. Não é preciso informar CPF do inquilino.  100 - Eu e minha mulher doamos alguns imóveis para nossa neta. Ela é minha dependente (guarda judicial). Devo fazer a declaração dela em separado ou ela ainda pode ser dependente? Devo informar os bens dela? (M.K.N.H.).  Ela pode ser sua dependente. Informe os bens recebidos por ela por doação na ficha Bens e direitos. Discrimine que foi doação com usufruto e informe o valor no campo de 2015. Informe o mesmo valor na linha 10 da ficha Rendimentos isentos e não tributáveis (a beneficiária é a dependente). Na mesma ficha, nos imóveis que você doou, informe no campo Discriminação a doação; repita os valores nos campos de 2014 e deixe em branco os de 2015.  101 - Como declaro indenização recebida por danos morais? (R.A.S.).  Informe na linha 24 da ficha Rendimentos isentos e não tributáveis.  102 - Minha mulher pagou contribuição ao INSS para sua mãe, que é diarista e recebe dinheiro quando faz faxinas. Como declaramos? (R.P.).  Se sua mulher informar a mãe como dependente, terá de lançar os rendimentos da mãe na aba Dependentes da ficha Rendimentos tributáveis recebidos de PF/exterior, no campo Rendimento do trabalho não assalariado e a previdência social no quadro Outras informações. Se não informar a mãe como dependente, sua mulher não pode informar a contribuição na declaração dela (filha).  103 - Pago convênio médico para filha internada em hospital. Posso incluí-la como minha dependente? (P.J.).  \\xa0 Sim, desde que ela tenha até 24 anos e curse ensino superior. Se ela não preencher esse requisito, não pode ser dependente e você não pode deduzir os pagamentos.  104 - Minha mulher e eu somos casados com comunhão universal de bens. Em 2015, vendemos imóvel e transferi certa importância para ela. Como informamos isso em declarações individuais? (J.A.S.).  Todos os bens comuns do casal, inclusive os saldos em conta bancária, são informados na declaração de um dos cônjuges, ainda que a conta esteja em nome do outro. Informe na ficha Bens e direitos (código 61) o saldo dessa conta na declaração do cônjuge que informar os bens comuns.  105 - Vendi em 2015 um apartamento adquirido em 1982. Possuo um segundo imóvel. Como calculo o lucro imobiliário? (J.H.A.F.).  Na ficha Bens e direitos, dê baixa no imóvel vendido e deixe em branco o campo de 2015. Preencha o programa GCap/2015 e informe a venda, o valor, a data da operação e preencha as demais informações solicitadas. Importe os dados para a declaração. Se houver IR a pagar, recolha o valor (com multa e juros) antes de entregar a declaração.  106 - Comprei com meu noivo um apartamento na planta (50% para cada um). Quem está pagando o imóvel é ele. Como declaramos? (I.V.).  Seu noivo informa na ficha Bens e Direitos (código 11) os dados do imóvel. No campo de 2015, informa 50% dos pagamentos feitos à construtora. Na ficha Doações Efetuadas, ele informa (código 80) o valor que pagou de sua parte, tendo você como beneficiária da doação. Na ficha Bens e direitos, você informa o mesmo que ele. Na linha 10 da ficha Rendimentos isentos e não tributáveis, indique também o valor que ele informou como doação a você.  107 - Doei veículo e dinheiro para minha filha. Como declaramos? (J.T.G.F.).  \\xa0 Informe na ficha Doações efetuadas (códigos 81 e 80). Baixe o veículo na ficha Bens e direitos, informando a doação (não preencha o campo de 2015). Ela informa o veículo na ficha Bens e direitos. Deixa em branco o campo de 2014 e, no de 2015, informa o valor do veículo (que estava na declaração do pai). Se o dinheiro estiver aplicado, é preciso indicar em que aplicação e respectivo código. Na linha 10 da ficha Rendimentos isentos e não tributáveis, informa o total recebido.  108 - Tenho filho de 24 anos que está desempregado. Paguei sua faculdade. Posso abater esse valor? (I.C.O.).  Sim, informe-o como dependente (código 22). Na ficha Pagamentos efetuados, informe o valor (código 01).  109 - Minha mulher recebeu ação judicial contra o INSS, por parte do pai, já morto. Somos casados em comunhão total e ela é minha dependente. Como declaro? (E.G.).  Na ficha Rendimentos recebidos acumuladamente, aba Dependentes, informe a opção pela forma de tributação, o nome e CNPJ da fonte pagadora, o valor recebido menos o pago ao advogado, o IR na fonte, o mês do recebimento e o número de meses da ação. Na ficha Pagamentos efetuados, informe o valor pago ao advogado (código 60), com nome e CPF dele.  110 - O valor de aplicação e seu rendimento, em conta de mais de um titular, pode ser proporcional segundo o valor de cada um? Como declaro? (F.F.L.).  Informe o valor da aplicação de cada um dos cotitulares na ficha Bens e Direitos, pelo código correspondente. No campo de 2015, informe o saldo da aplicação proporcionalmente a cada cotitular. Na ficha Rendimentos sujeitos à tributação exclusiva/definitiva (linha 06) e na ficha Rendimentos isentos e não tributáveis (linha 08, se for poupança), informe os rendimentos de cada aplicação.  111 - Como declaro ações, dividendos, saldos bancários e ações desvalorizadas? (J.Y.).  Para as ações adquiridas em 2015, informe na ficha Bens e direitos (código 31) e preencha o campo de 2015 pelo valor pago. As ações adquiridas anteriormente e desvalorizadas continuam a ser declaradas pelo custo de compra (repita o valor nos campos de 2014 e de 2015). Informe o saldo bancário (código 61), nos campos de 2014 e de 2015, conforme consta do informe do banco. Os dividendos são informados na linha 05 da ficha Rendimentos isentos e não tributáveis.  112 - Como regularizo apartamento comprado por R$ 12.200 em 1998 e nunca declarado? (M.M.).  \\xa0 Retifique as últimas cinco declarações e inclua o imóvel (código 11) na ficha Bens e direitos. O valor nos respectivos campos é R$ 12.200.  113 - Fiz um VGBL em 2014. No extrato enviado pelo banco, o valor continua inalterado em 2015. Está correto? (C.A.S.).  Se você não fez nenhum aporte em 2015, o valor continua o mesmo. Informe na ficha Bens e direitos (código 97) e indique os saldos nos campos de 2014 e de 2015.  114 - Recebi ação trabalhista no valor de R$ 322 mil e paguei 30% ao advogado. Com declaro? (J.T.O.).  Na ficha Rendimentos recebidos acumuladamente, informe a opção pela forma de tributação, o CNPJ da fonte pagadora, o valor recebido menos o pago ao advogado, o mês do recebimento e o número de meses da ação. Na ficha Pagamentos efetuados (código 61), informe os R$ 96,6 mil pagos ao advogado, com nome e CPF dele.  115 - Tenho filhos de 23 e 24 anos, universitários e meus dependentes. Doei para ambos metade de um apartamento. Incluí filha de 24 anos em minha conta bancária. Como declaro? (C.A.N.).  Na ficha Bens e direitos (código 11), informe que houve a doação de metade do imóvel a eles e a data. Mantenha o valor do campo de 2014. No de 2015, informe 50% do valor do bem. Abra dois novos itens nessa ficha (código 11) e informe que se trata de bens dos dependentes (25% para cada um). Na ficha Doações efetuadas (código 81), informe a doação para seus dois filhos, separadamente, com nome e CPF e o valor para cada um. Faça o mesmo na linha 10 da ficha Rendimentos isentos e não tributáveis. No caso da conta, você e sua filha informam o valor de cada um no campo de 2015 da ficha Bens e direitos (código 61).  116 - Tive rendimento no exterior e deixei o dinheiro lá, em conta. Como declaro? (A.R.).  Informe os valores na ficha Rendimentos recebidos de PF/exterior, no quadro Outras informações, coluna Exterior. Esse rendimento fica sujeito ao carnê-leão, obrigatório, com base na tabela mensal. Se for transferido ao Brasil, não há taxação.  117 - Fiz cirurgia em dezembro de 2014, paguei as despesas parte naquele e parte em 2015. Recebi reembolso em 2015, mas declarei toda a despesa e todo o reembolso em 2014. Como faço agora? (M.W.).  Retifique a declaração entregue em 2015 e informe apenas o valor pago em 2014 como despesa médica. Na declaração deste ano, na ficha Pagamentos efetuados (código 10), informe o valor pago em 2015 e, no campo Valor não dedutível/Parcela reembolsada, o valor do reembolso recebido em 2015.  118 - A última declaração que fiz foi em 2010. Estou aposentado e minha renda é menor de R$ 28.123. Como declaro os bens de 2010? (C.O.K.).  No campo Discriminação da ficha Bens e direitos, informe os bens. Nos campos de 2014 e de 2015, indique os valores declarados em 2010. Isso vale para bens cujos valores não se alteram, como veículos e imóveis. Se forem aplicações financeiras, indique os valores que constam do informe do banco.  119 - Pago plano de saúde para mim e meu marido. Podemos lançar os valores, mesmo que os reembolsos sejam feitos em meu nome? (M.W.).  Sim. Cada um informa sua parcela das despesas médicas na ficha Pagamentos efetuados (código 26) e dos respectivos reembolsos no campo Parcela não dedutível/Valor reembolsado.  120 - Estrangeiro reside no Brasil e recebe rendimentos do exterior referentes a venda de ações. Se houver lucro mensal, recolho o carnê-leão? Se houver venda com lucro e outra com prejuízo, posso compensar e recolher apenas sobre o saldo positivo? (A.N.).  A venda de ações no exterior sujeita o contribuinte ao ganho de capital de 15% (não ao carnê-leão). Preencha o programa Ganho de Capital em Moeda Estrangeira e importe os dados para a declaração. Não há compensação de perdas com lucros.  121 - Comprei cotas de fundo de índice da Bovespa e não as liquidei até 31/12/2015. Em que código informo? (B.A.).  Informe na ficha Bens e direitos (código 74). Deixe em branco o campo de 2014. No de 2015, informe o valor pago. Enquanto o fundo não for negociado, não há rendimento a ser reconhecido.  122 - Me aposentei em 1994 e vendi férias e licença-prêmio. Foi cobrado IR. Por meio de ação judicial, recebi R$ 35 mil em 2015. Como declaro? (C.O.).  Por se tratar de ação judicial, informe na linha 24 da ficha Rendimentos isentos e não tributáveis.  123 - Sempre declarei minha mulher como dependente. Ela possui poupança de R$ 120 mil, de espólio do pai, morto em 2014. Não declarei esse valor. Como faço? (P.R.R.).  Informe o valor na ficha Bens e direitos (código 41). Discrimine que é bem dela, por herança, e preencha os campos de 2014 e de 2015 conforme o saldo bancário nessas datas. Retifique a declaração de 2015 e informe a aplicação e os saldos. O rendimento isento é lançado na linha 08 da ficha Rendimentos isentos e não tributáveis.  124 - Como declaro o valor do IR retido sobre o 13º salário? É restituível? (C.I.).  Informe no campo \"IRRF sobre 13º salário\" da ficha Rendimentos tributáveis recebidos de PJ pelo titular. O valor não pode ser restituído, pois a tributação é definitiva.  125 - Recebi ação trabalhista. No comprovante do advogado, consta data do depósito em 2014 e data do levantamento em 2015. Que ano considero? O que informo no número de meses? (M.F.S.).  Considere 2015. Na ficha Rendimentos recebidos acumuladamente, informe a Opção pela forma de tributação, o CNPJ da fonte pagadora, o valor recebido menos o pago ao advogado, o IR retido, a contribuição ao INSS, o mês do recebimento e o número de meses da ação (seu advogado sabe informar isso). Na ficha Pagamentos efetuados, informe o valor pago a ele (código 61), com nome e CPF.  126- Comprei terreno em 2014 e comecei a construir em 2015, parte com recursos próprios e parte financiada. Em 2015, recebi parte do financiamento, e paguei a construtora. Como declaro? (F.L.).  Informe na ficha Bens e direitos (código 16) e indique o valor gasto para construir no campo de 2015. Continue a informar o terreno no código 13, e preencha o valor de custo nos campos de 2014 e de 2015. Informe o saldo devedor do financiamento para construção na ficha Dívidas e ônus reais (código 12).  127- Sou autônomo e faço serviços de contabilidade, pinturas de casas e serviços gerais. Como declaro? (N.C.S.).  Informe a renda na ficha Rendimentos tributáveis recebidos de PF/exterior, na aba Rendimentos do trabalho não assalariado, mês a mês (não indique o CPF dos clientes). Na ficha Rendimentos recebidos de PJ pelo titular, informe recebimentos de empresas (se for o caso).  128 - Minha mulher não informou o IR do 13º salário no valor de R$ 1.856 em 2015 e recebeu restituição menor do que deveria. Posso compensar esse valor em 2016? (R.R.B.).  Não pode. Sua mulher não recebeu menos do que deveria, pois o IR sobre o 13º é exclusivo na fonte, ou seja, não altera o valor da restituição.  129 - Tenho dois filhos com mais de 50 anos, sem renda, dependentes financeiramente de mim, inclusive em despesas médicas. Posso declará-los como dependentes? (C.A.F.).  Não. Os filhos só podem ser dependentes até 21 ou até 24 anos se estiverem cursando ensino superior ou técnico.  130 - Minha mãe, meu irmão e eu temos imóvel recebido por herança. Ele foi reformado em 2015, mas as notas fiscais estão no nome da minha mãe. Podemos, todos, aumentar o valor do imóvel na porcentagem que temos? (E.R.G.).  Não. Se o gasto foi pago por sua mãe, somente ela poderá acrescentar o valor da reforma na ficha Bens e direitos, no campo de 2015. Vocês dois mantêm os valores de 2014.  131 - Como informo VGBL? Tenho apartamento alugado, com valor depositado na conta do corretor. Ele tira a comissão e me transfere a diferença. Como declaro? (G.F.).  Informe o VGBL na ficha Bens e direitos (código 97) e preencha o valor no campo de 2015. O aluguel é informado na ficha Rendimentos recebidos de PF/Exterior, no quadro Outras informações, na coluna Aluguéis. A fonte pagadora é o inquilino. O valor da corretagem é informado no código 72 da ficha Pagamentos efetuados, com nome e CPF do corretor.  132 - Sou casado em comunhão universal de bens e declaro em separado. Comprei imóvel com dinheiro doado para minha mulher pelo pai dela e por dois irmãos. Como declaro? (L.C.B.A.).  Na declaração do cônjuge que declara os bens do casal, informe o imóvel (código 11 ou 12) no campo Discriminação da ficha Bens e direitos. No campo de 2015, informe o valor pago. O total recebido para a compra do imóvel é informado na linha 10 da ficha Rendimentos isentos e não tributáveis.  133 - Tenho dívida de cartão de crédito, mas a administradora não informa o valor. Como declaro? (A.P.P.).  Se sua dívida no cartão superava R$ 5.000, é necessário preencher o saldo na ficha Dívida e ônus reais, nos campos de 2014 (se for o caso) e de 2015. Faça o levantamento financeiro de 2015 e informe no campo Valor pago em 2015.  134 - Tenho acréscimo patrimonial de variação cambial de depósitos não remunerados mantidos em instituições financeiras no exterior. Qual CNPJ informo? (J.G.F.).  Não informe CNPJ. O programa gera um aviso que não impede a gravação e a transmissão da declaração.  135 - Fiz fisioterapia em hospital e tenho recibo assinado por pessoa capacitada. Posso abater o valor como despesa médica? (S.M.).  Sim, informe na ficha Pagamentos efetuados, pelo código 13.  136 - Eu e meu irmão recebemos 50% de aluguel cada um. Sou casado em comunhão de bens e declaro em separado. Posso declarar metade da minha parte do aluguel na declaração da minha mulher e compensar o IR do carnê-leão na minha declaração? (D.H.).  Não. O IR todo pode ser compensado na sua declaração desde que você informe a totalidade dos rendimentos comuns. Se os rendimentos forem divididos pelo casal, o IR pode ser compensado meio a meio.  137 - Preciso declarar imóvel novo, mas a quantidade de caracteres não cabe no campo Discriminação da ficha Bens e direitos. Como faço? (C.H.).  Abrevie o que puder para informar os dados do imóvel.  138 - Tenho nota fiscal de microempresa de fisioterapia (código 13) com CNPJ. Na declaração só aceita CPF. Como faço? Gasto com nutricionista é dedutível? (S.T.).  Use o código 21. Gasto com nutricionista não é dedutível.  139 - Como declaro imóvel adquirido por usucapião, conforme sentença judicial? Na certidão de valor venal da prefeitura, anexada ao registro, consta valor do terreno R$ 50 mil e predial, R$ 65 mil. Que valor considero? (G.L.).  Depende do tipo de usucapião da ação. Se for extraordinário ou especial, o custo é zero, pois não houve valor pago pelo imóvel. Informe na ficha Bens e direitos, discrimine o bem e a ação de usucapião. Não preencha o campo de 2015. Se for ordinário, discrimine o fato e, nos campos de 2014 e de 2015, informe o custo de aquisição constante em documento.  140 - Onde lanço rendimentos da minha mulher para efeito de fechar a evolução patrimonial do casal? (A.F.).  Informe os CPFs de ambos na ficha Identificação do contribuinte. O programa faz o cálculo automaticamente.  141 - Paguei em 30/12/15 o e-Social de doméstica que vencia em 7/1/2016. Posso deduzir o valor já em 2016? (A.J.F.L.).  Sim. Informe pelo código 50 na ficha Pagamentos efetuados.  142 - Fiz pagamentos mensais a advogado. Posso somar os pagamentos e informar apenas um valor? (A.A.).  Na ficha Pagamentos efetuados, informe o código correspondente ao pagamento, o nome e CPF do advogado e o valor total pago no ano. Não há necessidade de lançamento individual.  143 - Fui declarado isento do IR a partir de setembro de 2015, por ter doença grave. Como declaro? (J.V.).  Se a data da isenção pelo laudo for a partir setembro, informe na linha 07 da ficha Rendimentos isentos e não tributáveis seu nome, o CNPJ e o nome da fonte pagadora, o valor recebido de setembro a dezembro mais o 13º salário. Nessa hipótese, os rendimentos até agosto são informados na ficha Rendimentos tributáveis recebidos de PJ pelo titular. Se a data do laudo retroagir ao início de 2015, informe todo o rendimento na linha 07 citada.  144 - Recebi indenização trabalhista em abril/15 de ação de 2002. Como declaro? (M.S.).  Na ficha Rendimentos recebidos acumuladamente, informe a opção pela forma de tributação, o CNPJ da fonte pagadora, o valor recebido menos o pago ao advogado, o IR retido, o mês do recebimento e o número de meses da ação. Na ficha Pagamentos efetuados, informe o valor pago ao advogado, com nome e CPF dele.  145 - Minha avó é pensionista e tem mais de 65 anos. Como declaro a parcela isenta por ela ter essa idade? (L.A.).  Na ficha Rendimentos isentos e não tributáveis (linha 06), informe o valor que está no Informe de rendimentos dela (máximo de R$ 24.403,11). Na ficha Rendimentos tributáveis recebidos de PJ pelo titular, informe como renda tributável o valor que está no mesmo informe.  146 - Doei apartamento para três filhos, com usufruto meu e de minha mulher. Como declaramos? (P.E.R.).  Na ficha Bens e direitos, no campo Discriminação do imóvel doado, informe nomes e CPFs dos filhos e o usufruto. Não preencha o campo de 2015. Em novo item dessa ficha, informe o usufruto no campo Discriminação, sem preencher os campos de 2014 e de 2015 (exceto se foi atribuído valor no documento de transmissão). Na ficha Doações efetuadas (código 81), informe o nome, CPF de cada filho e o valor a cada um. Eles informam no campo Discriminação da ficha Bens e direitos (código 11), os dados do bem e a parte de cada um. No campo de 2015, indicam o valor que coube a cada um. Na ficha Rendimentos isentos e não tributáveis (linha 10), informam o mesmo valor.  147 - Minha mulher paga o INSS como contribuinte individual? Como declaro? (S.P.).  Na ficha Rendimentos tributáveis recebidos de PF/Exterior, informe no quadro Outras Informações, na coluna Previdência oficial.  148 - Recebi 1/5 do valor da venda de imóvel do espólio do meu pai, morto em 2009. Me aposentei pelo INSS em 2015, mas continuo trabalhando. Com meu FGTS, mais o valor do imóvel, mais algumas aplicações, comprei imóvel. Como declaro? (J.L.A.M.).  Informe o valor da sua parte no imóvel vendido na ficha Rendimentos isentos e não tributáveis (linha 10). Informe nessa mesma ficha (linha 03) o FGTS sacado. Na ficha Bens e direitos, não preencha os campos de 2015 das aplicações financeiras usadas para comprar o imóvel. Ainda nessa ficha, abra novo item para incluir o imóvel adquirido. No campo Discriminação, informe o nome, o CPF/CNPJ do vendedor, as condições de compra e o valor pago no campo de 2015.  149 - Em 2014, comprei imóvel e passei a escritura para minha namorada. Ela declarou o bem e o empréstimo. Em 2015, fizemos união estável. Como ela declara? Podemos declarar em conjunto? (R.G.A.).  A declaração será em separado. Só pode ser em conjunto com a companheira, desde que haja vida em comum por mais de cinco anos, ou por período menor se da união resultou filho. Ela continua a declarar o bem na ficha Bens e direitos e o empréstimo na ficha Dívidas e ônus reais.  150 - Como declaro consórcio de imóvel feito, contemplado e recebido em 2015? (V.M.).  Na ficha Bens e direitos, no código específico do bem, informe no campo Discriminação os dados do bem e do consórcio. Deixe em branco o campo de 2014. No de 2015, informe o valor pago até essa data, inclusive de lance dado, se for o caso.  151 - Sofri acidente em 2015 e permaneci imóvel por seis meses. Paguei tratamento de fisioterapeuta e enfermeiros. Posso abater os gastos (S.P.).  Os gastos com fisioterapeutas são dedutíveis, mas os com enfermeiros particulares, não (só seriam se integrassem a conta hospitalar).  152 - Tenho filha de 26 anos e pago o convênio médico dela. Posso abater o gasto? (S.M.C.).  Não, pois ela não pode mais ser sua dependente. 153 - Fiquei anos sem declarar por falta de renda. Que valores uso para os bens? (V.D.B.).  Na ficha Bens e direitos, informe seus bens ao final de 2015. No campo de 2014, informe os valores que estavam na última declaração entregue (se ainda tiver os bens). Se não houve variação, repita os valores para 2015. Se forem aplicações financeiras, indique nos dois campos os valores informados pelo banco.  154 - Minha filha é residente no Brasil e tem microempresa. Trabalhou temporariamente em 2015 em Londres. Essa renda é tributada? (P.M.).  Sim. Informe na ficha Rendimentos tributáveis recebidos de PF/exterior, no quadro Outras informações, coluna Exterior. Conforme o valor mensal recebido, esse rendimento estava sujeito ao recolhimento pelo carnê-leão.  155 - Consultas com psicanalista (que não tem formação médica nem em psicologia) pode ser considerada despesa médica? (F.F.).  Essas despesas não podem ser deduzidas.  156 - O filho recebe pensão alimentícia do pai, recolhe o carnê-leão e declara. A mãe detém a guarda e tem despesas com ele. Ela pode abater essas despesas? (A.O.).  Não, porque o filho não é dependente dela.  157 - Onde informo contribuição ao INSS como contribuinte individual? (P.V.F.G.).  Informe na ficha Rendimentos tributáveis recebidos de PF/exterior, no quadro Outras informações, na coluna Previdência oficial.  158 - Temos dois filhos, de 8 e 10 anos, nossos dependentes. Posso pôr um na minha declaração e outro na do meu marido? (S.M.).  Sim. 159 - Fiz cirurgia, paguei instrumentadora e o plano reembolsou o total pago. Como informo? Liquidei aplicação em moeda estrangeira. No campo \\'adquirente\\' do programa GCME2015, coloco o nome da instituição no exterior, mas não tenho CNPJ. O sistema aponta erro. Como faço? (C.M.P.M.).  O gasto não é declarado, por não ser considerado despesa médica dedutível. Não preencha os campos relativos ao adquirente e ao CNPJ.  160 - Eu e minha mulher somos aposentados. Até 2015, declaramos em separado, porque ela trabalhava. Sua aposentadoria é de um salário mínimo. Como fazemos? (J.P.).  Sua mulher não é obrigada a declarar pela renda; se declarar, pode ser em conjunto ou separado (se ela não tem 65 anos, fazer duas declarações tende a ser vantajoso; se ela já tinha 65 anos ao final de janeiro/15, compensa fazer em conjunto, com ela sendo sua dependente, e o valor lançado na linha 06 da ficha Rendimentos isentos e não tributáveis).  161 - Minha mãe, minha dependente, morreu em maio/15. Ela ainda pode ser dependente nesta declaração? (F.C.).  Sim (código 31).  162 - Recebi 50% de apartamento doado por meus pais. Como declaro? (L.P.).  No campo Discriminação da ficha Bens e direitos (código 11), informe que é uma doação de 50% do bem, com nome dos doadores, CPFs e a data. Não preencha o campo de 2014; no de 2015, informe o valor referente à metade recebida. Repita o mesmo valor na linha 10 da ficha Rendimentos isentos e não tributáveis.  163 - Minha filha fez 25 anos em setembro e aguarda bolsa para pós-graduação. Teve renda e IR retido. Paguei plano de saúde para ela. Ela pode ser minha dependente? (M.A.C.).  Como ela não cursava ensino superior ou escola técnica, não pode ser sua dependente. Faça declarações separadas, pois é vantajoso. Na dela, informe o plano de saúde (código 26) da ficha Pagamentos efetuados, mesmo sendo você quem pagou.  164 - Não tenho renda para declarar, mas minha companheira, sim. Tenho filha dependente, de 19 anos, que recebe pensão alimentícia. Minha parceira pode colocá-la como dependente? (S.S.).  Só se você declarar em conjunto com a companheira. Caso contrário, não.  165 - Meu pai fez um VGBL e indicou eu e meu irmão como beneficiários. Ele morreu em 2015 e o valor foi transferido para nossas contas. Como declaramos? (A.E.B.).  Se a opção de tributação foi pela tabela regressiva, informe na linha 12 da ficha Rendimentos sujeitos à tributação exclusiva/definitiva. Se foi pela tabela progressiva, informe na ficha Rendimentos tributáveis recebidos de PJ pelo titular. VGBL não entra no inventário.']"
      ]
     },
     "execution_count": 18,
     "metadata": {},
     "output_type": "execute_result"
    }
   ],
   "source": [
    "folha_articles['text'].loc[max_length_idx].tolist()"
   ]
  },
  {
   "cell_type": "markdown",
   "metadata": {},
   "source": [
    "It is an article about question readers had about taxes so, indeed, it is expected to have this many words."
   ]
  },
  {
   "cell_type": "markdown",
   "metadata": {},
   "source": [
    "# Analyzing the first paragraph of the articles"
   ]
  },
  {
   "cell_type": "markdown",
   "metadata": {},
   "source": [
    "Let's see if the first paragraph contains enough information to generate the headline"
   ]
  },
  {
   "cell_type": "code",
   "execution_count": 19,
   "metadata": {},
   "outputs": [],
   "source": [
    "idx = np.random.choice(np.arange(len(headlines)), size=1)"
   ]
  },
  {
   "cell_type": "code",
   "execution_count": 20,
   "metadata": {},
   "outputs": [
    {
     "name": "stdout",
     "output_type": "stream",
     "text": [
      "Acesso a sites de notícias por smartphones cresce nos EUA\n"
     ]
    }
   ],
   "source": [
    "print(headlines.tolist()[idx[0]])"
   ]
  },
  {
   "cell_type": "code",
   "execution_count": 21,
   "metadata": {},
   "outputs": [
    {
     "name": "stdout",
     "output_type": "stream",
     "text": [
      "Neste início de 2015, dos 50 maiores sites noticiosos dos Estados Unidos, 39 já são mais acessados por aparelhos móveis, como \"smartphones\", do que por computadores.\n"
     ]
    }
   ],
   "source": [
    "print(news_text.tolist()[idx[0]].split('  ')[0])"
   ]
  },
  {
   "cell_type": "markdown",
   "metadata": {},
   "source": [
    "We can see that, in most cases, the first paragraph already has enough information to generate our headlines, so, when building the model, we are just going to focus on those."
   ]
  },
  {
   "cell_type": "markdown",
   "metadata": {},
   "source": [
    "Let's now look at the length of those first paragraphs"
   ]
  },
  {
   "cell_type": "code",
   "execution_count": 22,
   "metadata": {},
   "outputs": [],
   "source": [
    "first_paragraph_len = [len(stn.split('  ')[0].split(' ')) for stn in news_text if not pd.isna(stn)]"
   ]
  },
  {
   "cell_type": "code",
   "execution_count": 23,
   "metadata": {},
   "outputs": [
    {
     "data": {
      "text/plain": [
       "<matplotlib.axes._subplots.AxesSubplot at 0x7f99500d22e8>"
      ]
     },
     "execution_count": 23,
     "metadata": {},
     "output_type": "execute_result"
    },
    {
     "data": {
      "image/png": "[encoded data removed]",
      "text/plain": [
       "<Figure size 432x288 with 1 Axes>"
      ]
     },
     "metadata": {
      "needs_background": "light"
     },
     "output_type": "display_data"
    }
   ],
   "source": [
    "sns.boxplot(first_paragraph_len)"
   ]
  },
  {
   "cell_type": "code",
   "execution_count": 24,
   "metadata": {},
   "outputs": [
    {
     "data": {
      "text/plain": [
       "65.0"
      ]
     },
     "execution_count": 24,
     "metadata": {},
     "output_type": "execute_result"
    }
   ],
   "source": [
    "np.quantile(first_paragraph_len, 0.95)"
   ]
  }
 ],
 "metadata": {
  "kernelspec": {
   "display_name": "Python 3",
   "language": "python",
   "name": "python3"
  },
  "language_info": {
   "codemirror_mode": {
    "name": "ipython",
    "version": 3
   },
   "file_extension": ".py",
   "mimetype": "text/x-python",
   "name": "python",
   "nbconvert_exporter": "python",
   "pygments_lexer": "ipython3",
   "version": "3.7.3"
  },
  "toc": {
   "base_numbering": 1,
   "nav_menu": {},
   "number_sections": true,
   "sideBar": true,
   "skip_h1_title": false,
   "title_cell": "Table of Contents",
   "title_sidebar": "Contents",
   "toc_cell": true,
   "toc_position": {},
   "toc_section_display": true,
   "toc_window_display": false
  },
  "varInspector": {
   "cols": {
    "lenName": 16,
    "lenType": 16,
    "lenVar": 40
   },
   "kernels_config": {
    "python": {
     "delete_cmd_postfix": "",
     "delete_cmd_prefix": "del ",
     "library": "var_list.py",
     "varRefreshCmd": "print(var_dic_list())"
    },
    "r": {
     "delete_cmd_postfix": ") ",
     "delete_cmd_prefix": "rm(",
     "library": "var_list.r",
     "varRefreshCmd": "cat(var_dic_list()) "
    }
   },
   "types_to_exclude": [
    "module",
    "function",
    "builtin_function_or_method",
    "instance",
    "_Feature"
   ],
   "window_display": false
  }
 },
 "nbformat": 4,
 "nbformat_minor": 2
}
