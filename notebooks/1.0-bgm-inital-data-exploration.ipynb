{
 "cells": [
  {
   "cell_type": "markdown",
   "metadata": {
    "toc": true
   },
   "source": [
    "<h1>Table of Contents<span class=\"tocSkip\"></span></h1>\n",
    "<div class=\"toc\"><ul class=\"toc-item\"><li><span><a href=\"#Imports-and-loading-the-datasets\" data-toc-modified-id=\"Imports-and-loading-the-datasets-1\"><span class=\"toc-item-num\">1&nbsp;&nbsp;</span>Imports and loading the datasets</a></span></li><li><span><a href=\"#Analyzing-the-first-paragraph-of-the-articles\" data-toc-modified-id=\"Analyzing-the-first-paragraph-of-the-articles-2\"><span class=\"toc-item-num\">2&nbsp;&nbsp;</span>Analyzing the first paragraph of the articles</a></span></li><li><span><a href=\"#Analyzing-the-categories-vocabulary\" data-toc-modified-id=\"Analyzing-the-categories-vocabulary-3\"><span class=\"toc-item-num\">3&nbsp;&nbsp;</span>Analyzing the categories vocabulary</a></span></li></ul></div>"
   ]
  },
  {
   "cell_type": "markdown",
   "metadata": {},
   "source": [
    "# Imports and loading the datasets"
   ]
  },
  {
   "cell_type": "code",
   "execution_count": 2,
   "metadata": {},
   "outputs": [],
   "source": [
    "import pandas as pd\n",
    "import numpy as np\n",
    "import seaborn as sns\n",
    "import matplotlib.pyplot as plt\n",
    "from collections import Counter\n",
    "\n",
    "import os"
   ]
  },
  {
   "cell_type": "code",
   "execution_count": 3,
   "metadata": {},
   "outputs": [],
   "source": [
    "interim_data_dir = '../data/interim'"
   ]
  },
  {
   "cell_type": "code",
   "execution_count": 4,
   "metadata": {},
   "outputs": [],
   "source": [
    "folha_articles = pd.read_csv(os.path.join(interim_data_dir, 'news-of-the-site-folhauol/articles.csv'))"
   ]
  },
  {
   "cell_type": "markdown",
   "metadata": {},
   "source": [
    "Since we have a lot of data, for our model we are just going to use the first words of the news article and in order to reduce our vocabulary we are going to use just one category of news"
   ]
  },
  {
   "cell_type": "markdown",
   "metadata": {},
   "source": [
    "# Analyzing the first paragraph of the articles"
   ]
  },
  {
   "cell_type": "code",
   "execution_count": 5,
   "metadata": {},
   "outputs": [
    {
     "name": "stdout",
     "output_type": "stream",
     "text": [
      "Headline: Congresso faz 'contrarreforma', afirma presidente do PT\n",
      "First parahraph: O presidente nacional do PT, Rui Falcão, classificou de \"contrarreforma\" a reforma política que tramita no Congresso Nacional e voltou a defender a instalação de uma Assembleia Constituinte para analisar o tema.\n",
      "\n",
      "Headline: Andrés nega atraso no pagamento de contas da Arena Corinthians\n",
      "First parahraph: O ex-presidente do Corinthians Andrés Sanchez afirmou neste domingo (15) que a Arena Corinthians não está com as dívidas atrasadas.\n",
      "\n",
      "Headline: Astrologia\n",
      "First parahraph: Astral eletrizante de hoje sinaliza oscilações nos mercados. Lua minguante em Câncer: 4/10.\n",
      "\n",
      "Headline: Janot recomenda que STF arquive queixa-crime de Lula contra senador\n",
      "First parahraph: Em parecer enviado ao STF (Supremo Tribunal Federal), o procurador-geral da República, Rodrigo Janot, recomendou o arquivamento da queixa-crime do ex-presidente Luiz Inácio Lula da Silva contra o senador Ronaldo Caiado (DEM-GO), que acusou o petista de \"bandido frouxo\".\n",
      "\n",
      "Headline: Folha lança nesta terça-feira série de debates Diálogos Transformadores\n",
      "First parahraph: A Folha lança nesta terça-feira (17) a série Diálogos Transformadores. O evento da Rede Folha de Empreendedores Sociais mistura entrevista, debate e casos inspiradores para discutir assuntos emergentes da agenda sustentável. A primeira edição será sobre Reciclagem.\n",
      "\n"
     ]
    }
   ],
   "source": [
    "for _ in range(5):\n",
    "    idx = np.random.choice(np.arange(len(folha_articles)), size=1)[0]\n",
    "    print(\"Headline: {}\".format(folha_articles.loc[idx, 'title']))\n",
    "    print(\"First parahraph: {}\".format(folha_articles.loc[idx, 'text'].split('  ')[0]))\n",
    "    print()"
   ]
  },
  {
   "cell_type": "markdown",
   "metadata": {},
   "source": [
    "As we can see, in many cases the first few sentences already tell the content of the entire text. So we are going to use just the first words to generate the headlines."
   ]
  },
  {
   "cell_type": "markdown",
   "metadata": {},
   "source": [
    "# Analyzing the categories vocabulary"
   ]
  },
  {
   "cell_type": "code",
   "execution_count": 6,
   "metadata": {},
   "outputs": [],
   "source": [
    "category_vocab = {cat: set() for cat in folha_articles['category'].unique()}\n",
    "\n",
    "for cat, stn in zip(folha_articles['category'], folha_articles['text']):\n",
    "    if pd.isna(stn):\n",
    "        continue\n",
    "    for word in stn.split():\n",
    "        category_vocab[cat].add(word)"
   ]
  },
  {
   "cell_type": "code",
   "execution_count": 7,
   "metadata": {
    "scrolled": true
   },
   "outputs": [
    {
     "name": "stdout",
     "output_type": "stream",
     "text": [
      "poder\n",
      "Number of unique words: 264968\n",
      "Unique word per article: 12.031968031968033\n",
      "\n",
      "ilustrada\n",
      "Number of unique words: 370409\n",
      "Unique word per article: 22.66191495870297\n",
      "\n",
      "mercado\n",
      "Number of unique words: 287498\n",
      "Unique word per article: 13.709966618979495\n",
      "\n",
      "mundo\n",
      "Number of unique words: 289442\n",
      "Unique word per article: 16.896789258610625\n",
      "\n",
      "esporte\n",
      "Number of unique words: 228998\n",
      "Unique word per article: 11.60658895083629\n",
      "\n",
      "tec\n",
      "Number of unique words: 79953\n",
      "Unique word per article: 35.377433628318585\n",
      "\n",
      "cotidiano\n",
      "Number of unique words: 252583\n",
      "Unique word per article: 14.886721282489539\n",
      "\n",
      "ambiente\n",
      "Number of unique words: 38538\n",
      "Unique word per article: 78.4887983706721\n",
      "\n",
      "equilibrioesaude\n",
      "Number of unique words: 76250\n",
      "Unique word per article: 58.11737804878049\n",
      "\n",
      "sobretudo\n",
      "Number of unique words: 57136\n",
      "Unique word per article: 54.05487228003784\n",
      "\n",
      "colunas\n",
      "Number of unique words: 445647\n",
      "Unique word per article: 20.610813060771438\n",
      "\n",
      "educacao\n",
      "Number of unique words: 71415\n",
      "Unique word per article: 33.71813031161473\n",
      "\n",
      "tv\n",
      "Number of unique words: 40372\n",
      "Unique word per article: 18.84780578898226\n",
      "\n",
      "banco-de-dados\n",
      "Number of unique words: 5811\n",
      "Unique word per article: 90.796875\n",
      "\n",
      "opiniao\n",
      "Number of unique words: 139694\n",
      "Unique word per article: 30.87160220994475\n",
      "\n",
      "ciencia\n",
      "Number of unique words: 79064\n",
      "Unique word per article: 59.223970037453185\n",
      "\n",
      "paineldoleitor\n",
      "Number of unique words: 99916\n",
      "Unique word per article: 24.910496135627024\n",
      "\n",
      "saopaulo\n",
      "Number of unique words: 163452\n",
      "Unique word per article: 41.327939317319846\n",
      "\n",
      "ilustrissima\n",
      "Number of unique words: 165732\n",
      "Unique word per article: 117.45712260807937\n",
      "\n",
      "seminariosfolha\n",
      "Number of unique words: 29866\n",
      "Unique word per article: 78.80211081794195\n",
      "\n",
      "turismo\n",
      "Number of unique words: 101895\n",
      "Unique word per article: 53.54440357330531\n",
      "\n",
      "empreendedorsocial\n",
      "Number of unique words: 44958\n",
      "Unique word per article: 53.45778834720571\n",
      "\n",
      "serafina\n",
      "Number of unique words: 39819\n",
      "Unique word per article: 119.2185628742515\n",
      "\n",
      "asmais\n",
      "Number of unique words: 48781\n",
      "Unique word per article: 89.01642335766424\n",
      "\n",
      "o-melhor-de-sao-paulo\n",
      "Number of unique words: 20936\n",
      "Unique word per article: 110.77248677248677\n",
      "\n",
      "bbc\n",
      "Number of unique words: 68415\n",
      "Unique word per article: 69.81122448979592\n",
      "\n",
      "comida\n",
      "Number of unique words: 51623\n",
      "Unique word per article: 62.34661835748792\n",
      "\n",
      "musica\n",
      "Number of unique words: 0\n",
      "Unique word per article: 0.0\n",
      "\n",
      "folhinha\n",
      "Number of unique words: 34925\n",
      "Unique word per article: 39.868721461187214\n",
      "\n",
      "especial\n",
      "Number of unique words: 8083\n",
      "Unique word per article: 187.97674418604652\n",
      "\n",
      "treinamento\n",
      "Number of unique words: 3535\n",
      "Unique word per article: 168.33333333333334\n",
      "\n",
      "multimidia\n",
      "Number of unique words: 2326\n",
      "Unique word per article: 86.14814814814815\n",
      "\n",
      "cenarios-2017\n",
      "Number of unique words: 6881\n",
      "Unique word per article: 160.02325581395348\n",
      "\n",
      "topofmind\n",
      "Number of unique words: 12385\n",
      "Unique word per article: 144.01162790697674\n",
      "\n",
      "dw\n",
      "Number of unique words: 8912\n",
      "Unique word per article: 185.66666666666666\n",
      "\n",
      "ombudsman\n",
      "Number of unique words: 345\n",
      "Unique word per article: 115.0\n",
      "\n",
      "contas-de-casa\n",
      "Number of unique words: 0\n",
      "Unique word per article: 0.0\n",
      "\n",
      "mulher\n",
      "Number of unique words: 2246\n",
      "Unique word per article: 140.375\n",
      "\n",
      "2016\n",
      "Number of unique words: 0\n",
      "Unique word per article: 0.0\n",
      "\n",
      "guia-de-livros-discos-filmes\n",
      "Number of unique words: 25410\n",
      "Unique word per article: 177.69230769230768\n",
      "\n",
      "treinamentocienciaesaude\n",
      "Number of unique words: 4720\n",
      "Unique word per article: 262.22222222222223\n",
      "\n",
      "rfi\n",
      "Number of unique words: 4309\n",
      "Unique word per article: 148.58620689655172\n",
      "\n",
      "vice\n",
      "Number of unique words: 33698\n",
      "Unique word per article: 230.8082191780822\n",
      "\n",
      "bichos\n",
      "Number of unique words: 1\n",
      "Unique word per article: 1.0\n",
      "\n",
      "euronews\n",
      "Number of unique words: 1040\n",
      "Unique word per article: 130.0\n",
      "\n",
      "guia-de-livros-filmes-discos\n",
      "Number of unique words: 7358\n",
      "Unique word per article: 262.7857142857143\n",
      "\n",
      "infograficos\n",
      "Number of unique words: 408\n",
      "Unique word per article: 9.488372093023257\n",
      "\n",
      "2015\n",
      "Number of unique words: 0\n",
      "Unique word per article: 0.0\n",
      "\n"
     ]
    }
   ],
   "source": [
    "for cat in category_vocab:\n",
    "    print(cat)\n",
    "    print(\"Number of unique words: {}\".format(len(category_vocab[cat])))\n",
    "    print(\"Unique word per article: {}\".format(len(category_vocab[cat])/folha_articles['category'].value_counts().loc[cat]))\n",
    "    print()"
   ]
  },
  {
   "cell_type": "markdown",
   "metadata": {},
   "source": [
    "From the above code we can see that the best option for our model would be the esporte category since it has less unique words per articles"
   ]
  }
 ],
 "metadata": {
  "kernelspec": {
   "display_name": "Python 3",
   "language": "python",
   "name": "python3"
  },
  "language_info": {
   "codemirror_mode": {
    "name": "ipython",
    "version": 3
   },
   "file_extension": ".py",
   "mimetype": "text/x-python",
   "name": "python",
   "nbconvert_exporter": "python",
   "pygments_lexer": "ipython3",
   "version": "3.7.3"
  },
  "toc": {
   "base_numbering": 1,
   "nav_menu": {},
   "number_sections": true,
   "sideBar": true,
   "skip_h1_title": false,
   "title_cell": "Table of Contents",
   "title_sidebar": "Contents",
   "toc_cell": true,
   "toc_position": {},
   "toc_section_display": true,
   "toc_window_display": false
  },
  "varInspector": {
   "cols": {
    "lenName": 16,
    "lenType": 16,
    "lenVar": 40
   },
   "kernels_config": {
    "python": {
     "delete_cmd_postfix": "",
     "delete_cmd_prefix": "del ",
     "library": "var_list.py",
     "varRefreshCmd": "print(var_dic_list())"
    },
    "r": {
     "delete_cmd_postfix": ") ",
     "delete_cmd_prefix": "rm(",
     "library": "var_list.r",
     "varRefreshCmd": "cat(var_dic_list()) "
    }
   },
   "types_to_exclude": [
    "module",
    "function",
    "builtin_function_or_method",
    "instance",
    "_Feature"
   ],
   "window_display": false
  }
 },
 "nbformat": 4,
 "nbformat_minor": 2
}
